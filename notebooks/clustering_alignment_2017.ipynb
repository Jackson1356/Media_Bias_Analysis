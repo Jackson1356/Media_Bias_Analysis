{
 "cells": [
  {
   "cell_type": "code",
   "execution_count": 1,
   "id": "79a9317d-987f-4f67-952f-4a48bbe40940",
   "metadata": {},
   "outputs": [
    {
     "name": "stderr",
     "output_type": "stream",
     "text": [
      "C:\\Users\\jacks\\AppData\\Local\\Temp\\ipykernel_25552\\2846018648.py:3: DeprecationWarning: \n",
      "Pyarrow will become a required dependency of pandas in the next major release of pandas (pandas 3.0),\n",
      "(to allow more performant data types, such as the Arrow string type, and better interoperability with other libraries)\n",
      "but was not found to be installed on your system.\n",
      "If this would cause problems for you,\n",
      "please provide us feedback at https://github.com/pandas-dev/pandas/issues/54466\n",
      "        \n",
      "  import pandas as pd\n"
     ]
    }
   ],
   "source": [
    "import time\n",
    "import numpy as np\n",
    "import pandas as pd\n",
    "from sklearn.cluster import DBSCAN\n",
    "import pickle\n",
    "import os\n",
    "from imutils import build_montages\n",
    "from PIL import Image\n",
    "import io\n",
    "import gc\n",
    "\n",
    "import matplotlib.pyplot as plt"
   ]
  },
  {
   "cell_type": "code",
   "execution_count": 2,
   "id": "9cbeead7-48a7-4df5-8fb9-a722c9e02491",
   "metadata": {},
   "outputs": [],
   "source": [
    "outlets = [\n",
    "    'gatewaypundit',\n",
    "    'huffpost',\n",
    "    'nyt'\n",
    "]"
   ]
  },
  {
   "cell_type": "code",
   "execution_count": 3,
   "id": "6dda45a5-d021-48aa-a756-bf5ad6b2cc74",
   "metadata": {},
   "outputs": [],
   "source": [
    "models = [\n",
    "  \"VGG-Face\", \n",
    "  \"Facenet\", \n",
    "  \"Facenet512\", \n",
    "]\n",
    "with open('embeddings_alignment_2k_2017', 'rb') as f:\n",
    "    data = pickle.load(f)"
   ]
  },
  {
   "cell_type": "code",
   "execution_count": 4,
   "id": "8375ac56-94a1-4833-92b0-5f6222c3279c",
   "metadata": {},
   "outputs": [
    {
     "data": {
      "text/plain": [
       "11168"
      ]
     },
     "execution_count": 4,
     "metadata": {},
     "output_type": "execute_result"
    }
   ],
   "source": [
    "len(data['VGG-Face'])"
   ]
  },
  {
   "cell_type": "code",
   "execution_count": 5,
   "id": "9909700d-d03d-4035-aca8-d09a7ba117b1",
   "metadata": {},
   "outputs": [],
   "source": [
    "def dbscan(data, model, eps, min_samples):\n",
    "    print(f\"eps: {eps}, min_samples: {min_samples}\")\n",
    "    print(\"model: \", model)\n",
    "    embeddings = []\n",
    "    images = []\n",
    "    for img, ebs in data.items():\n",
    "        for eb in ebs:\n",
    "            embeddings.append(eb)\n",
    "            images.append(img)\n",
    "    clt = DBSCAN(metric=\"euclidean\", eps=eps, min_samples=min_samples)\n",
    "    clt.fit(embeddings)\n",
    "    labels = clt.labels_    \n",
    "    \n",
    "    labelIDs = np.unique(labels)\n",
    "    numUniqueFaces = len(np.where(labelIDs > -1)[0])\n",
    "    print(f\"unique faces: {numUniqueFaces}\")\n",
    "\n",
    "    clusters = {}\n",
    "    for i in range(len(labelIDs)-1):\n",
    "        clusters[i] = []\n",
    "        for j in range(len(labels)):\n",
    "            if labels[j] == labelIDs[i+1]:\n",
    "                clusters[i].append(images[j])\n",
    "    return clusters"
   ]
  },
  {
   "cell_type": "code",
   "execution_count": 6,
   "id": "87ec8bd6-cd95-4885-8874-35c44edcd9b4",
   "metadata": {},
   "outputs": [
    {
     "name": "stdout",
     "output_type": "stream",
     "text": [
      "eps: 1, min_samples: 3\n",
      "model:  VGG-Face\n",
      "unique faces: 94\n",
      "eps: 8.9, min_samples: 2\n",
      "model:  Facenet\n",
      "unique faces: 407\n",
      "eps: 17.7, min_samples: 4\n",
      "model:  Facenet512\n",
      "unique faces: 136\n"
     ]
    }
   ],
   "source": [
    "clusters1 = dbscan(data[models[0]], models[0], 1, 3)\n",
    "clusters2 = dbscan(data[models[1]], models[1], 8.9, 2)\n",
    "clusters3 = dbscan(data[models[2]], models[2], 17.7, 4)"
   ]
  },
  {
   "cell_type": "code",
   "execution_count": null,
   "id": "06317327-64dd-4218-a973-3ea94f61607d",
   "metadata": {
    "scrolled": true
   },
   "outputs": [],
   "source": [
    "n_c1 = {}\n",
    "i = 0\n",
    "for k, v in clusters1.items():\n",
    "    n_c1[i] = len(v)\n",
    "    i += 1\n",
    "n_c1_sorted = {k: v for k, v in sorted(n_c1.items(), key=lambda item: item[1], reverse=True)}\n",
    "n_c1_sorted"
   ]
  },
  {
   "cell_type": "code",
   "execution_count": null,
   "id": "b079436c-f5a7-41ed-a14e-2209b1df2409",
   "metadata": {
    "scrolled": true
   },
   "outputs": [],
   "source": [
    "n_c2 = {}\n",
    "i = 0\n",
    "for k, v in clusters2.items():\n",
    "    n_c2[i] = len(v)\n",
    "    i += 1\n",
    "n_c2_sorted = {k: v for k, v in sorted(n_c2.items(), key=lambda item: item[1], reverse=True)}\n",
    "n_c2_sorted"
   ]
  },
  {
   "cell_type": "code",
   "execution_count": null,
   "id": "9c262915-2388-4e72-a1f2-b742087389f2",
   "metadata": {
    "scrolled": true
   },
   "outputs": [],
   "source": [
    "n_c3 = {}\n",
    "i = 0\n",
    "for k, v in clusters3.items():\n",
    "    n_c3[i] = len(v)\n",
    "    i += 1\n",
    "n_c3_sorted = {k: v for k, v in sorted(n_c3.items(), key=lambda item: item[1], reverse=True)}\n",
    "n_c3_sorted"
   ]
  },
  {
   "cell_type": "code",
   "execution_count": 10,
   "id": "783cff29-3ab1-4482-8fb0-7081dad2cea7",
   "metadata": {},
   "outputs": [],
   "source": [
    "outlet_data = {outlet: {} for outlet in outlets}\n",
    "for key, value in data['VGG-Face'].items():\n",
    "    outlet_data[key.split(\"_\")[0][:-4]][key] = value"
   ]
  },
  {
   "cell_type": "code",
   "execution_count": 11,
   "id": "009b5438-6edf-4735-8c15-22c067368faa",
   "metadata": {},
   "outputs": [
    {
     "name": "stdout",
     "output_type": "stream",
     "text": [
      "eps: 1, min_samples: 3\n",
      "model:  VGG-Face\n",
      "unique faces: 91\n",
      "eps: 1, min_samples: 3\n",
      "model:  VGG-Face\n",
      "unique faces: 41\n",
      "eps: 1, min_samples: 3\n",
      "model:  VGG-Face\n",
      "unique faces: 29\n"
     ]
    }
   ],
   "source": [
    "gatewaypundit_clustering = dbscan(outlet_data['gatewaypundit'], models[0], 1, 3)\n",
    "huffpost_clustering = dbscan(outlet_data['huffpost'], models[0], 1, 3)\n",
    "nyt_clustering = dbscan(outlet_data['nyt'], models[0], 1, 3)"
   ]
  },
  {
   "cell_type": "code",
   "execution_count": null,
   "id": "ffad3113-f842-4f8e-a394-c049cc896c75",
   "metadata": {
    "scrolled": true
   },
   "outputs": [],
   "source": [
    "gatewaypundit_n = {}\n",
    "i = 0\n",
    "for k, v in gatewaypundit_clustering.items():\n",
    "    gatewaypundit_n[i] = len(v)\n",
    "    i += 1\n",
    "gatewaypundit_n_sorted = {k: v for k, v in sorted(gatewaypundit_n.items(), key=lambda item: item[1], reverse=True)}\n",
    "gatewaypundit_n_sorted"
   ]
  },
  {
   "cell_type": "code",
   "execution_count": null,
   "id": "ed66cc53-76c7-4a53-bbfa-30c666186c33",
   "metadata": {
    "scrolled": true
   },
   "outputs": [],
   "source": [
    "huffpost_n = {}\n",
    "i = 0\n",
    "for k, v in huffpost_clustering.items():\n",
    "    huffpost_n[i] = len(v)\n",
    "    i += 1\n",
    "huffpost_n_sorted = {k: v for k, v in sorted(huffpost_n.items(), key=lambda item: item[1], reverse=True)}\n",
    "huffpost_n_sorted"
   ]
  },
  {
   "cell_type": "code",
   "execution_count": null,
   "id": "24351825-4c97-463f-9f27-bc67cac1296c",
   "metadata": {
    "scrolled": true
   },
   "outputs": [],
   "source": [
    "nyt_n = {}\n",
    "i = 0\n",
    "for k, v in nyt_clustering.items():\n",
    "    nyt_n[i] = len(v)\n",
    "    i += 1\n",
    "nyt_n_sorted = {k: v for k, v in sorted(nyt_n.items(), key=lambda item: item[1], reverse=True)}\n",
    "nyt_n_sorted"
   ]
  },
  {
   "cell_type": "code",
   "execution_count": null,
   "id": "3af65c56-42f8-4d39-b049-b2793a0397b7",
   "metadata": {},
   "outputs": [],
   "source": []
  },
  {
   "cell_type": "code",
   "execution_count": null,
   "id": "474108c9-4fb3-437c-834a-f5dc3ddb25fd",
   "metadata": {},
   "outputs": [],
   "source": []
  },
  {
   "cell_type": "code",
   "execution_count": 15,
   "id": "cd761271-6535-41c1-a94c-d293990d375e",
   "metadata": {},
   "outputs": [],
   "source": [
    "from google.cloud import storage\n",
    "from google.oauth2 import service_account\n",
    "from google.cloud import storage\n",
    "credentials = service_account.Credentials.from_service_account_file(\n",
    "    \"./sylvan-airship-XXX.json\")\n",
    "client = storage.Client(credentials=credentials)\n",
    "bucket = client.get_bucket('full_images_2024')\n",
    "blobs = bucket.list_blobs()"
   ]
  },
  {
   "cell_type": "code",
   "execution_count": null,
   "id": "6ac23519-ae75-49fb-9ccc-b0b07d70cd27",
   "metadata": {},
   "outputs": [],
   "source": [
    "i = 0\n",
    "for img in clusters1[0]:\n",
    "    if i == 100:\n",
    "        break\n",
    "    i += 1\n",
    "    outlet = img.split(\"_\")[0]\n",
    "    img_path = f\"alignment/{outlet[:-4]}/{outlet}/{img}\"\n",
    "    print(img_path)\n",
    "    try:\n",
    "        blob = bucket.blob(img_path)\n",
    "        image_bytes = blob.download_as_bytes()\n",
    "        image = Image.open(io.BytesIO(image_bytes))\n",
    "        plt.imshow(image)\n",
    "        plt.axis('off')  # Turn off axis numbering\n",
    "        plt.show()\n",
    "    except:\n",
    "        print(\"!!!!!!!!!!!!!!not found!!!!!!!!!!!!!!\")"
   ]
  }
 ],
 "metadata": {
  "kernelspec": {
   "display_name": "Python 3 (ipykernel)",
   "language": "python",
   "name": "python3"
  },
  "language_info": {
   "codemirror_mode": {
    "name": "ipython",
    "version": 3
   },
   "file_extension": ".py",
   "mimetype": "text/x-python",
   "name": "python",
   "nbconvert_exporter": "python",
   "pygments_lexer": "ipython3",
   "version": "3.11.4"
  }
 },
 "nbformat": 4,
 "nbformat_minor": 5
}
